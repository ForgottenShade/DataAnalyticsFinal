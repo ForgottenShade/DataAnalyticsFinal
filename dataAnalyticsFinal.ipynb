{
 "cells": [
  {
   "cell_type": "code",
   "execution_count": null,
   "id": "e97ae921",
   "metadata": {},
   "outputs": [],
   "source": [
    "import pandas as pd\n",
    "import numpy as np\n",
    "import seaborn as sns\n",
    "import matplotlib.pyplot as plt\n",
    "from sklearn.model_selection import train_test_split, GridSearchCV\n",
    "from sklearn.linear_model import LinearRegression, LogisticRegression\n",
    "from sklearn.svm import SVC\n",
    "from sklearn.decomposition import PCA"
   ]
  },
  {
   "cell_type": "code",
   "execution_count": null,
   "id": "eeddf3cd",
   "metadata": {},
   "outputs": [],
   "source": [
    "#Import data\n",
    "listings_X = pd.read_csv(\"data/listings.csv\")\n",
    "#calendar = pd.read_csv(\"data/calendar.csv\")\n",
    "#neighborhoods = pd.read_csv(\"data/neighbourhoods.csv\")"
   ]
  },
  {
   "cell_type": "code",
   "execution_count": null,
   "id": "4599b548",
   "metadata": {},
   "outputs": [],
   "source": [
    "# First look into the data\n",
    "listings_X.info()"
   ]
  },
  {
   "cell_type": "code",
   "execution_count": null,
   "id": "6cc8724b",
   "metadata": {},
   "outputs": [],
   "source": [
    "# Removing variables\n",
    "listings_X = listings_X.drop(['id', 'name', 'host_name', 'host_id', 'last_review'], axis=1)\n",
    "listings_X.info()"
   ]
  },
  {
   "cell_type": "code",
   "execution_count": null,
   "id": "b2328e41",
   "metadata": {},
   "outputs": [],
   "source": [
    "print(\"There are a total of %d neighbourhoods, %d neighbourhood groups and %d room types\" % (listings_X.neighbourhood.nunique(),listings_X.neighbourhood_group.nunique(),listings_X.room_type.nunique()))\n",
    "\n",
    "# Applying one-hot encoding\n",
    "listings_X = pd.get_dummies(listings_X, columns=['neighbourhood', 'neighbourhood_group', 'room_type'])"
   ]
  },
  {
   "cell_type": "code",
   "execution_count": null,
   "id": "09064d56",
   "metadata": {},
   "outputs": [],
   "source": [
    "print(\"The minimum value for the price of any house is %f, so that's the reason why we filter the 0 values\" %min(listings_X.price))\n",
    "\n",
    "#Filtering by price and spliting the dataset into X and Y\n",
    "listings_X = listings_X[(listings_X['price'] != 0)]\n",
    "listings_Y = listings_X.price\n",
    "listings_X.drop(columns=[\"price\"])\n",
    "listings_X.head()"
   ]
  },
  {
   "cell_type": "code",
   "execution_count": null,
   "id": "cdacf762",
   "metadata": {},
   "outputs": [],
   "source": [
    "# Filling NaN values in reviews_per_month column\n",
    "listings_X.reviews_per_month = listings_X.reviews_per_month.fillna(0)"
   ]
  },
  {
   "cell_type": "code",
   "execution_count": null,
   "id": "9df66dfa",
   "metadata": {},
   "outputs": [],
   "source": [
    "# Analyzing price distribution\n",
    "plt.hist(listings_Y, bins=100)\n",
    "plt.title(\"Price histogram\")\n",
    "plt.show()\n",
    "plt.title(\"Price histogram (from 0 to 1000)\")\n",
    "plt.xlim(0,1000)\n",
    "plt.hist(listings_Y,bins=1000)\n",
    "plt.show()"
   ]
  },
  {
   "cell_type": "code",
   "execution_count": null,
   "id": "da3611bf",
   "metadata": {},
   "outputs": [],
   "source": [
    "# Discretization of \"price\" column\n",
    "bins=[0, 50, 200, 500, 1000, 9999]\n",
    "listings_Y_cat = pd.cut(listings_Y, bins=bins, labels=['Cheap', 'Moderate', 'Pricey', 'Expensive', 'Elite'])\n",
    "listings_Y_cat.value_counts()"
   ]
  },
  {
   "cell_type": "code",
   "execution_count": null,
   "id": "1b14c2e5",
   "metadata": {},
   "outputs": [],
   "source": [
    "# PCA\n",
    "print(\"Number of dimensions before PCA: %d\"%listings_X.shape[1])\n",
    "\n",
    "pca = PCA(n_components=0.99, svd_solver = 'full')\n",
    "listings_X = pca.fit_transform(listings_X)\n",
    "print(\"The number of PC that we get to explain a 99%% of variance is %d\" %listings_X.shape[1])\n",
    "\n",
    "plt.figure(figsize=(10,5))\n",
    "plt.bar(x = list(range(1,4)), height= pca.explained_variance_ratio_)\n",
    "plt.ylabel(\"Explained variance ratio\")\n",
    "plt.xlabel(\"PC\")\n",
    "plt.show()"
   ]
  },
  {
   "cell_type": "code",
   "execution_count": null,
   "id": "2dd96772",
   "metadata": {},
   "outputs": [],
   "source": [
    "#ModelS\n",
    "lnr = LinearRegression()\n",
    "lgr = LogisticRegression()\n",
    "svm = SVC()"
   ]
  },
  {
   "cell_type": "code",
   "execution_count": null,
   "id": "f8b22786",
   "metadata": {},
   "outputs": [],
   "source": [
    "#Train/Test Split\n",
    "splits = [0.1, 0.2, 0.5, 0.75]\n",
    "\n",
    "for split in splits:\n",
    "    X_train, X_test, y_train, y_test = train_test_split(listings_X, listings_Y, test_size=split)\n",
    "    X_train_cat, X_test_cat, y_train_cat, y_test_cat = train_test_split(listings_X, listings_Y_cat, test_size=split)\n",
    "    \n",
    "    lnr.fit(X_train, y_train)\n",
    "    lgr.fit(X_train_cat, y_train_cat)\n",
    "    svm.fit(X_train_cat, y_train_cat)\n",
    "    \n",
    "    print(\"LNR Coefficient of Det.: \" + str(lnr.score(X_test, y_test)) + \" for K = \" + str(split))\n",
    "    print(\"LGR Mean Accuracy: \" + str(lgr.score(X_test_cat, y_test_cat)) + \" for K = \" + str(split))\n",
    "    print(\"SVM Mean Accuracy: \" + str(svm.score(X_test_cat, y_test_cat)) + \" for K = \" + str(split))"
   ]
  },
  {
   "cell_type": "code",
   "execution_count": null,
   "id": "9d471b4e",
   "metadata": {},
   "outputs": [],
   "source": [
    "#Testing"
   ]
  },
  {
   "cell_type": "code",
   "execution_count": null,
   "id": "d4c62e96",
   "metadata": {},
   "outputs": [],
   "source": [
    "#Evalutation/Graphs"
   ]
  }
 ],
 "metadata": {
  "kernelspec": {
   "display_name": "Python 3 (ipykernel)",
   "language": "python",
   "name": "python3"
  },
  "language_info": {
   "codemirror_mode": {
    "name": "ipython",
    "version": 3
   },
   "file_extension": ".py",
   "mimetype": "text/x-python",
   "name": "python",
   "nbconvert_exporter": "python",
   "pygments_lexer": "ipython3",
   "version": "3.9.7"
  }
 },
 "nbformat": 4,
 "nbformat_minor": 5
}
