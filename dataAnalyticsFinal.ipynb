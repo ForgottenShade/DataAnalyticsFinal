{
 "cells": [
  {
   "cell_type": "code",
   "execution_count": 17,
   "id": "e97ae921",
   "metadata": {},
   "outputs": [],
   "source": [
    "import pandas as pd\n",
    "import numpy as np\n",
    "import seaborn as sns\n",
    "import matplotlib as plt\n",
    "from sklearn.model_selection import train_test_split, GridSearchCV\n",
    "from sklearn.linear_model import LinearRegression, LogisticRegression\n",
    "from sklearn.svm import SVC\n",
    "from sklearn.decomposition import PCA"
   ]
  },
  {
   "cell_type": "code",
   "execution_count": 6,
   "id": "eeddf3cd",
   "metadata": {},
   "outputs": [],
   "source": [
    "#Import data\n",
    "listings_X = pd.read_csv(\"data/listings.csv\")\n",
    "calendar = pd.read_csv(\"data/calendar.csv\")\n",
    "neighborhoods = pd.read_csv(\"data/neighbourhoods.csv\")"
   ]
  },
  {
   "cell_type": "code",
   "execution_count": 10,
   "id": "cdacf762",
   "metadata": {},
   "outputs": [],
   "source": [
    "#Preprocessing\n",
    "\n",
    "\n",
    "listings_Y = listings_X['price']\n",
    "listsings_X = listings_X.drop(['price'], axis=1)\n",
    "\n",
    "#generate any classes desired from price ranges potentially"
   ]
  },
  {
   "cell_type": "code",
   "execution_count": 18,
   "id": "2dd96772",
   "metadata": {},
   "outputs": [],
   "source": [
    "#Model\n",
    "lnr = LinearRegression()\n",
    "lgr = LogisticRegression()\n",
    "svm = SVC()"
   ]
  },
  {
   "cell_type": "code",
   "execution_count": null,
   "id": "f8b22786",
   "metadata": {},
   "outputs": [],
   "source": [
    "#Train/Test Split\n",
    "X_train, X_test, y_train, y_test = train_test_split(listings_X, listings_Y, test_size=0.20)"
   ]
  },
  {
   "cell_type": "code",
   "execution_count": 8,
   "id": "a0e59b42",
   "metadata": {},
   "outputs": [],
   "source": [
    "#Training"
   ]
  },
  {
   "cell_type": "code",
   "execution_count": 9,
   "id": "9d471b4e",
   "metadata": {},
   "outputs": [],
   "source": [
    "#Testing"
   ]
  },
  {
   "cell_type": "code",
   "execution_count": null,
   "id": "d4c62e96",
   "metadata": {},
   "outputs": [],
   "source": [
    "#Evalutation/Graphs"
   ]
  }
 ],
 "metadata": {
  "kernelspec": {
   "display_name": "Python 3 (ipykernel)",
   "language": "python",
   "name": "python3"
  },
  "language_info": {
   "codemirror_mode": {
    "name": "ipython",
    "version": 3
   },
   "file_extension": ".py",
   "mimetype": "text/x-python",
   "name": "python",
   "nbconvert_exporter": "python",
   "pygments_lexer": "ipython3",
   "version": "3.9.10"
  }
 },
 "nbformat": 4,
 "nbformat_minor": 5
}
