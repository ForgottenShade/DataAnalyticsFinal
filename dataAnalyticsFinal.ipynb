{
 "cells": [
  {
   "cell_type": "markdown",
   "id": "775c3c43",
   "metadata": {},
   "source": [
    "# Data Analysis Final Project"
   ]
  },
  {
   "cell_type": "markdown",
   "id": "cdbdf26c",
   "metadata": {},
   "source": [
    "## 1. Imports and Data Loading"
   ]
  },
  {
   "cell_type": "code",
   "execution_count": null,
   "id": "e97ae921",
   "metadata": {},
   "outputs": [],
   "source": [
    "import pandas as pd\n",
    "import numpy as np\n",
    "import seaborn as sns\n",
    "import matplotlib.pyplot as plt\n",
    "from sklearn.model_selection import train_test_split, GridSearchCV\n",
    "from sklearn.linear_model import LinearRegression, LogisticRegression\n",
    "from sklearn.svm import SVC\n",
    "from sklearn.decomposition import PCA\n",
    "from sklearn.metrics import plot_confusion_matrix, confusion_matrix, classification_report, ConfusionMatrixDisplay\n",
    "from sklearn.neighbors import KNeighborsClassifier\n",
    "from sklearn.ensemble import RandomForestClassifier"
   ]
  },
  {
   "cell_type": "code",
   "execution_count": null,
   "id": "eeddf3cd",
   "metadata": {},
   "outputs": [],
   "source": [
    "#Import data\n",
    "listings = pd.read_csv(\"data/listings.csv\")\n",
    "#calendar = pd.read_csv(\"data/calendar.csv\")\n",
    "#neighborhoods = pd.read_csv(\"data/neighbourhoods.csv\")"
   ]
  },
  {
   "cell_type": "markdown",
   "id": "adb7fe89",
   "metadata": {},
   "source": [
    "## 2. Exploratory Data Analysis"
   ]
  },
  {
   "cell_type": "code",
   "execution_count": null,
   "id": "4599b548",
   "metadata": {},
   "outputs": [],
   "source": [
    "# First look into the data\n",
    "listings.info()"
   ]
  },
  {
   "cell_type": "code",
   "execution_count": null,
   "id": "6cc8724b",
   "metadata": {},
   "outputs": [],
   "source": [
    "# Removing variables\n",
    "listings = listings.drop(['id', 'name', 'host_name', 'host_id', 'last_review'], axis=1)\n",
    "listings.info()"
   ]
  },
  {
   "cell_type": "code",
   "execution_count": null,
   "id": "b2328e41",
   "metadata": {},
   "outputs": [],
   "source": [
    "print(\"There are a total of %d neighbourhoods, %d neighbourhood groups and %d room types\" % (listings.neighbourhood.nunique(),listings.neighbourhood_group.nunique(),listings.room_type.nunique()))\n",
    "\n",
    "# Applying one-hot encoding\n",
    "listings = pd.get_dummies(listings, columns=['neighbourhood', 'neighbourhood_group', 'room_type'])"
   ]
  },
  {
   "cell_type": "code",
   "execution_count": null,
   "id": "9df66dfa",
   "metadata": {},
   "outputs": [],
   "source": [
    "# Analyzing price distribution\n",
    "plt.hist(listings.price, bins=100)\n",
    "plt.title(\"Price histogram\")\n",
    "plt.show()"
   ]
  },
  {
   "cell_type": "code",
   "execution_count": null,
   "id": "09064d56",
   "metadata": {},
   "outputs": [],
   "source": [
    "print(\"The minimum value for the price of any house is %f, so that's the reason why we filter the 0 values\" %min(listings.price))\n",
    "print(\"We are also filtering houses with a price higher than 400\")\n",
    "\n",
    "#Filtering by price and spliting the dataset into X and Y\n",
    "listings = listings[(listings['price'] > 0) & (listings['price'] <= 100)]\n",
    "listings_Y = listings.price\n",
    "listings_X = listings.drop(columns=[\"price\"])\n",
    "listings_X.head()"
   ]
  },
  {
   "cell_type": "code",
   "execution_count": null,
   "id": "2d85e3c4",
   "metadata": {},
   "outputs": [],
   "source": [
    "# Analyzing price distribution (again)\n",
    "plt.hist(listings_Y, bins=70)\n",
    "plt.title(\"Filtered Price histogram\")\n",
    "plt.show()"
   ]
  },
  {
   "cell_type": "code",
   "execution_count": null,
   "id": "cdacf762",
   "metadata": {},
   "outputs": [],
   "source": [
    "# Filling NaN values in reviews_per_month column\n",
    "listings_X.reviews_per_month = listings_X.reviews_per_month.fillna(0)"
   ]
  },
  {
   "cell_type": "code",
   "execution_count": null,
   "id": "da3611bf",
   "metadata": {},
   "outputs": [],
   "source": [
    "# Option 1: Discretization of \"price\" column using non-uniform bins\n",
    "bins=[0, 20, 50, 75, 101]\n",
    "labels = ['Cheap', 'Moderate', 'Expensive', 'Elite']\n",
    "listings_Y_cat = pd.cut(listings_Y, bins=bins, labels=['Cheap', 'Moderate', 'Expensive', 'Elite'])\n",
    "\n",
    "listings_Y_cat.value_counts()"
   ]
  },
  {
   "cell_type": "code",
   "execution_count": null,
   "id": "4e0d1c2d",
   "metadata": {},
   "outputs": [],
   "source": [
    "# Option 2: Discretization of \"price\" column using uniform bins\n",
    "bins=[0, 20, 50, 75, 101]\n",
    "labels = ['Cheap', 'Moderate', 'Expensive', 'Elite']\n",
    "listings_Y_cat,bins = pd.qcut(listings_Y.rank(method = 'first'), 4, labels=labels, retbins = True)\n",
    "listings_Y_cat.value_counts()"
   ]
  },
  {
   "cell_type": "code",
   "execution_count": null,
   "id": "1b14c2e5",
   "metadata": {},
   "outputs": [],
   "source": [
    "# PCA (optional to apply)\n",
    "print(\"Number of dimensions before PCA: %d\"%listings_X.shape[1])\n",
    "\n",
    "pca = PCA(n_components=0.99, svd_solver = 'full')\n",
    "listings_X = pca.fit_transform(listings_X)\n",
    "print(\"The number of PC that we get to explain a 99%% of variance is %d\" %listings_X.shape[1])\n",
    "\n",
    "plt.figure(figsize=(10,5))\n",
    "plt.bar(x = list(range(1,listings_X.shape[1]+1)), height= pca.explained_variance_ratio_)\n",
    "plt.ylabel(\"Explained variance ratio\")\n",
    "plt.xlabel(\"PC\")\n",
    "plt.show()"
   ]
  },
  {
   "cell_type": "markdown",
   "id": "2cfdbff2",
   "metadata": {},
   "source": [
    "## 3. Model Training"
   ]
  },
  {
   "cell_type": "code",
   "execution_count": null,
   "id": "2dd96772",
   "metadata": {},
   "outputs": [],
   "source": [
    "#Models used\n",
    "lnr = LinearRegression()\n",
    "lgr = LogisticRegression()\n",
    "svm = SVC()\n",
    "knn = KNeighborsClassifier(n_neighbors=11)\n",
    "rf = RandomForestClassifier()"
   ]
  },
  {
   "cell_type": "code",
   "execution_count": null,
   "id": "f8b22786",
   "metadata": {},
   "outputs": [],
   "source": [
    "#Train/Test Split\n",
    "splits = [0.05, 0.1, 0.2, 0.5, 0.75]\n",
    "\n",
    "for split in splits:\n",
    "    X_train, X_test, y_train, y_test = train_test_split(listings_X, listings_Y, test_size=split)\n",
    "    X_train_cat, X_test_cat, y_train_cat, y_test_cat = train_test_split(listings_X, listings_Y_cat, test_size=split)\n",
    "    \n",
    "    lnr.fit(X_train, y_train)\n",
    "    lgr.fit(X_train_cat, y_train_cat)\n",
    "    svm.fit(X_train_cat, y_train_cat)\n",
    "    knn.fit(X_train_cat, y_train_cat)\n",
    "    rf.fit(X_train_cat, y_train_cat)\n",
    "    \n",
    "    print(\"LNR Coefficient of Det.: \" + str(lnr.score(X_test, y_test)) + \" for K = \" + str(split))\n",
    "    print(\"LGR Mean Accuracy: \" + str(lgr.score(X_test_cat, y_test_cat)) + \" for K = \" + str(split))\n",
    "    print(\"SVM Mean Accuracy: \" + str(svm.score(X_test_cat, y_test_cat)) + \" for K = \" + str(split))\n",
    "    print(\"KNN Mean Accuracy: \" + str(knn.score(X_test_cat, y_test_cat)) + \" for K = \" + str(split))\n",
    "    print(\"RF Mean Accuracy: \" + str(rf.score(X_test_cat, y_test_cat)) + \" for K = \" + str(split))"
   ]
  },
  {
   "cell_type": "code",
   "execution_count": null,
   "id": "eae59faa",
   "metadata": {},
   "outputs": [],
   "source": [
    "# Final Train/Test Split\n",
    "split = .1\n",
    "X_train, X_test, y_train, y_test = train_test_split(listings_X, listings_Y, test_size=split)\n",
    "X_train_cat, X_test_cat, y_train_cat, y_test_cat = train_test_split(listings_X, listings_Y_cat, test_size=split)"
   ]
  },
  {
   "cell_type": "code",
   "execution_count": null,
   "id": "36c11cb2",
   "metadata": {},
   "outputs": [],
   "source": [
    "# Option 1: Training Models using default hyperparameters:\n",
    "lnr.fit(X_train, y_train)\n",
    "lgr.fit(X_train_cat, y_train_cat)\n",
    "svm.fit(X_train_cat, y_train_cat)\n",
    "knn.fit(X_train_cat, y_train_cat)\n",
    "rf.fit(X_train_cat, y_train_cat)"
   ]
  },
  {
   "cell_type": "code",
   "execution_count": null,
   "id": "85c4e125",
   "metadata": {
    "scrolled": true
   },
   "outputs": [],
   "source": [
    "# Option 2: Training Models using GridSearchCV\n",
    "\n",
    "# Logistic Regression Grid-Search\n",
    "parameters = {'solver': (\"newton-cg\", \"lbfgs\", \"liblinear\"), \"C\":(.001,.01,.1,1)}\n",
    "lgr_grid = GridSearchCV(lgr, parameters)\n",
    "lgr_grid.fit(X_train_cat, y_train_cat)\n",
    "lgr = lgr_grid\n",
    "lgr_grid.best_estimator_"
   ]
  },
  {
   "cell_type": "code",
   "execution_count": null,
   "id": "90958432",
   "metadata": {
    "scrolled": true
   },
   "outputs": [],
   "source": [
    "# Support Vector Machine Grid-Search\n",
    "parameters = {\"C\":(.01,.1,1)}\n",
    "svm_grid = GridSearchCV(svm, parameters)\n",
    "svm_grid.fit(X_train_cat, y_train_cat)\n",
    "svm = svm_grid\n",
    "svm_grid.best_estimator_"
   ]
  },
  {
   "cell_type": "code",
   "execution_count": null,
   "id": "2371ebef",
   "metadata": {},
   "outputs": [],
   "source": [
    "#RF Grid-Search\n",
    "parameters = {\"boostrap\":(True, False), \"n_estimators\":(50,100,500)}\n",
    "rf_grid = GridSearchCV(RandomForestClassifier(), parameters)\n",
    "rf_grid.fit(X_train_cat, y_train_cat)\n",
    "rf = rf_grid\n",
    "rf_grid.best_estimator_"
   ]
  },
  {
   "cell_type": "code",
   "execution_count": null,
   "id": "4e5a2718",
   "metadata": {},
   "outputs": [],
   "source": [
    "#KNN Grid-Search\n",
    "parameters = {\"n_neighbors\":(5,7,9,11)}\n",
    "knn_grid = GridSearchCV(KNeighborsClassifier(), parameters)\n",
    "knn_grid.fit(X_train_cat, y_train_cat)\n",
    "knn = knn_grid\n",
    "knn_grid.best_estimator_"
   ]
  },
  {
   "cell_type": "code",
   "execution_count": null,
   "id": "94b843da",
   "metadata": {},
   "outputs": [],
   "source": [
    "# Hyperparameter tuning for KNN\n",
    "scores = []\n",
    "k_values = list(range(3,52,2))\n",
    "for k in k_values:\n",
    "    knn.n_neighbors = k\n",
    "    knn.fit(X_train_cat, y_train_cat)\n",
    "    scores.append(knn.score(X_train_cat, y_train_cat))\n",
    "    \n",
    "plt.plot(k_values, scores)\n",
    "plt.title(\"Tuning 'n_neighbors'\")\n",
    "plt.xlabel(\"n_neighbors\")\n",
    "plt.ylabel(\"Score\")\n",
    "plt.show()"
   ]
  },
  {
   "cell_type": "markdown",
   "id": "57ba5d98",
   "metadata": {},
   "source": [
    "## 4. Model Test & Evaluation"
   ]
  },
  {
   "cell_type": "code",
   "execution_count": null,
   "id": "d4c62e96",
   "metadata": {},
   "outputs": [],
   "source": [
    "#Linear Regression test and evaluation\n",
    "lnr_pred = lnr.predict(X_test)\n",
    "errors = np.abs(lnr_pred-y_test)\n",
    "coeff_of_det = lnr.score(X_test, y_test)\n",
    "print(\"The coefficient of determination of the trained linear regression is %f\"%coeff_of_det)\n",
    "print(\"The square root of the square sum of the errors is %f\"%(np.sqrt((y_test - lnr_pred)** 2).sum()))\n",
    "print(\"The max error is %f, the min error is %f, the average error is %f and the median error is %f\\n\"%(max(errors), min(errors), np.mean(errors), np.median(errors)))\n",
    "\n",
    "# Classifying the continous predictions from the linear regression into the categories, as we did for training the\n",
    "# classificators, in order to evaluate the LR in a similar same way than the others\n",
    "lnr_predict_cat = pd.cut(lnr_pred, bins=[0,20,40,60,80,101],labels=[0,1,2,3,4])\n",
    "lnr_true_cat = pd.cut(y_test, bins=[0,20,40,60,80,101], labels=[0, 1, 2, 3,4])\n",
    "print(classification_report(lnr_true_cat.to_numpy(), lnr_predict_cat.to_numpy(), target_names=['0-20', '20-40', '40-60', '60-80','80-100']))"
   ]
  },
  {
   "cell_type": "code",
   "execution_count": null,
   "id": "4f5d8e46",
   "metadata": {},
   "outputs": [],
   "source": [
    "#Linear Regression confusion matrix\n",
    "fig, ax = plt.subplots(figsize=(10, 10))\n",
    "cm = confusion_matrix(lnr_true_cat, lnr_predict_cat, labels=[0,1,2,3,4])\n",
    "disp = ConfusionMatrixDisplay(confusion_matrix = cm, display_labels=['0-20', '20-40', '40-60', '60-80','80-100'])\n",
    "disp.plot(ax=ax)\n",
    "plt.xticks(rotation = -45)\n",
    "plt.show()"
   ]
  },
  {
   "cell_type": "code",
   "execution_count": null,
   "id": "22f400f2",
   "metadata": {},
   "outputs": [],
   "source": [
    "#Logistic Regression classification report\n",
    "lgr_predict_cat = lgr.predict(X_test_cat)\n",
    "print(classification_report(y_test_cat, lgr_predict_cat, target_names=['Cheap', 'Moderate', 'Expensive', 'Elite']))"
   ]
  },
  {
   "cell_type": "code",
   "execution_count": null,
   "id": "70fac271",
   "metadata": {},
   "outputs": [],
   "source": [
    "#Logistic Regrssion confusion matrix\n",
    "fig, ax = plt.subplots(figsize=(10, 10))\n",
    "plot_confusion_matrix(lgr, X_test_cat, y_test_cat, labels = labels,ax=ax)\n",
    "plt.xticks(rotation = -45)\n",
    "plt.show()"
   ]
  },
  {
   "cell_type": "code",
   "execution_count": null,
   "id": "1e03f89c",
   "metadata": {},
   "outputs": [],
   "source": [
    "#SVM classification report\n",
    "svm_predict_cat = svm.predict(X_test_cat)\n",
    "print(classification_report(y_test_cat, svm_predict_cat, target_names=['Cheap', 'Moderate', 'Expensive', 'Elite']))"
   ]
  },
  {
   "cell_type": "code",
   "execution_count": null,
   "id": "735c2ab7",
   "metadata": {},
   "outputs": [],
   "source": [
    "#SVM prediction confusion matrix\n",
    "fig, ax = plt.subplots(figsize=(10, 10))\n",
    "plot_confusion_matrix(svm, X_test_cat, y_test_cat, labels = labels,ax=ax)\n",
    "plt.xticks(rotation = -45)\n",
    "plt.show()"
   ]
  },
  {
   "cell_type": "code",
   "execution_count": null,
   "id": "d2711b85",
   "metadata": {},
   "outputs": [],
   "source": [
    "#KNN Classification Report\n",
    "knn_predict_cat = knn.predict(X_test_cat)\n",
    "print(classification_report(y_test_cat, knn_predict_cat, target_names=['Cheap', 'Moderate', 'Expensive', 'Elite']))"
   ]
  },
  {
   "cell_type": "code",
   "execution_count": null,
   "id": "da5df75a",
   "metadata": {},
   "outputs": [],
   "source": [
    "#KNN Confusion Matrix\n",
    "fig, ax = plt.subplots(figsize=(10, 10))\n",
    "plot_confusion_matrix(knn, X_test_cat, y_test_cat, labels = labels,ax=ax)\n",
    "plt.xticks(rotation = -45)\n",
    "plt.show()"
   ]
  },
  {
   "cell_type": "code",
   "execution_count": null,
   "id": "ed9a63b3",
   "metadata": {},
   "outputs": [],
   "source": [
    "# Random Forest Classification Report\n",
    "rf_predict_cat = rf.predict(X_test_cat)\n",
    "print(classification_report(y_test_cat, rf_predict_cat, target_names=['Cheap', 'Moderate', 'Expensive', 'Elite']))"
   ]
  },
  {
   "cell_type": "code",
   "execution_count": null,
   "id": "f9a87bfa",
   "metadata": {},
   "outputs": [],
   "source": [
    "#Random Forest Confusion Matrix\n",
    "fig, ax = plt.subplots(figsize=(10, 10))\n",
    "plot_confusion_matrix(rf, X_test_cat, y_test_cat, labels = labels,ax=ax)\n",
    "plt.xticks(rotation = -45)\n",
    "plt.show()"
   ]
  },
  {
   "cell_type": "code",
   "execution_count": null,
   "id": "7515bc45",
   "metadata": {},
   "outputs": [],
   "source": []
  }
 ],
 "metadata": {
  "kernelspec": {
   "display_name": "Python 3 (ipykernel)",
   "language": "python",
   "name": "python3"
  },
  "language_info": {
   "codemirror_mode": {
    "name": "ipython",
    "version": 3
   },
   "file_extension": ".py",
   "mimetype": "text/x-python",
   "name": "python",
   "nbconvert_exporter": "python",
   "pygments_lexer": "ipython3",
   "version": "3.9.7"
  }
 },
 "nbformat": 4,
 "nbformat_minor": 5
}
